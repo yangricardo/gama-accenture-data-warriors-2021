{
  "nbformat": 4,
  "nbformat_minor": 0,
  "metadata": {
    "colab": {
      "name": "df_dayly.ipynb",
      "provenance": [],
      "include_colab_link": true
    },
    "kernelspec": {
      "name": "python3",
      "display_name": "Python 3"
    }
  },
  "cells": [
    {
      "cell_type": "markdown",
      "metadata": {
        "id": "view-in-github",
        "colab_type": "text"
      },
      "source": [
        "<a href=\"https://colab.research.google.com/github/yangricardo/gama-accenture-data-warriors-2021/blob/main/df_dayly-gabriel-2021-03-10.ipynb\" target=\"_parent\"><img src=\"https://colab.research.google.com/assets/colab-badge.svg\" alt=\"Open In Colab\"/></a>"
      ]
    },
    {
      "cell_type": "code",
      "metadata": {
        "id": "D2Z37heN1USR"
      },
      "source": [
        "import requests\r\n",
        "import pandas as pd\r\n",
        "\r\n",
        "url_summary='https://api.covid19api.com/summary'\r\n",
        "data_summary = requests.get(url_summary).json()\r\n",
        "\r\n",
        "df_daily = pd.DataFrame(data_summary, columns = ['Countries'])\r\n",
        "\r\n",
        "df_daily['ISO2']=list(map(lambda i:i['CountryCode'], df_daily['Countries']))\r\n",
        "df_daily['NewConfirmed']=list(map(lambda i:i['NewConfirmed'],df_daily['Countries']))\r\n",
        "df_daily['TotalConfirmed']=list(map(lambda i:i['TotalConfirmed'],df_daily['Countries']))\r\n",
        "df_daily['NewDeaths']=list(map(lambda i:i['NewDeaths'],df_daily['Countries']))\r\n",
        "df_daily['TotalDeaths']=list(map(lambda i:i['TotalDeaths'],df_daily['Countries']))\r\n",
        "df_daily['LastUpdateDate']=list(map(lambda i:i['Date'],df_daily['Countries']))"
      ],
      "execution_count": null,
      "outputs": []
    }
  ]
}