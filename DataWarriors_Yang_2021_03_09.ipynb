{
  "nbformat": 4,
  "nbformat_minor": 0,
  "metadata": {
    "colab": {
      "name": "DataWarriors-Yang-2021-03-09.ipynb",
      "provenance": [],
      "collapsed_sections": [],
      "authorship_tag": "ABX9TyNPC/hCSPYRXVQq4vEJgYco",
      "include_colab_link": true
    },
    "kernelspec": {
      "name": "python3",
      "display_name": "Python 3"
    }
  },
  "cells": [
    {
      "cell_type": "markdown",
      "metadata": {
        "id": "view-in-github",
        "colab_type": "text"
      },
      "source": [
        "<a href=\"https://colab.research.google.com/github/yangricardo/gama-accenture-data-warriors-2021/blob/main/DataWarriors_Yang_2021_03_09.ipynb\" target=\"_parent\"><img src=\"https://colab.research.google.com/assets/colab-badge.svg\" alt=\"Open In Colab\"/></a>"
      ]
    },
    {
      "cell_type": "markdown",
      "metadata": {
        "id": "oY0mXeAn-R_Q"
      },
      "source": [
        "# DataWarriors\r\n",
        "Armazenamento de dados d COVID-19 de todos os países do mundo através da API: https://documenter.getpostman.com/view/10808728/SzS8rjbc.\r\n",
        "\r\n",
        "1. Crie um Script SQL para criação de um DataBase com um Schema para armazenar os registros de países e os dados de COVID-19 por todo o mundo. Na tabela que será armazenada os dados de países, 2 campos são obrigatórios de serem consistidos:\r\n",
        "Nome do país\r\n",
        "Código ISO2\r\n",
        "Em outros repositórios devem ser armazenados a quantidade de casos confirmados e mortes de cada um dos países do mundo, desde o dia 01/01/2020.\r\n",
        "2.  Crie um banco de dados relacional no provedor de nuvem Azure para armazenamento dos dados em questão, estabelecidos pelo script com o dito schema, criado na etapa anterior. O banco de dados pode ser SQL Server, MySQL, MariaDB, Postgres ou algum outro SQL.\r\n",
        "3.  Desenvolva um script Python que faça leitura da API determinada no enunciado inicial desta atividade para realizar o armazenamento de países e dos casos confirmados e de mortes da COVID-19. O armazenamento destas informações deverá ser em BD SQL, consistido no Azure através do schema definido na etapa 1 desta atividade.\r\n",
        "Após armazenamento dos valores no BD, este dito script Python deverá retornar as seguintes informações em tela, caso o usuário escolha:\r\n",
        "  1.  Panorama diário de quantidade de casos confirmados de COVID-19 dos 10 países do mundo com maiores números.\r\n",
        "  2. Panorama diário de quantidade de mortes de COVID-19 dos 10 países do mundo com números.\r\n",
        "  3. Total de mortes por COVID-19 dos 10 países do mundo com maiores números.\r\n",
        "  4.  Total de casos confirmados por COVID-19 dos 10 países do mundo com maiores números.\r\n",
        "A impressão das 4 informações citadas acima deverá acontecer em tela, através do prompt de comando de execução do programa.\r\n",
        "\r\n",
        "Parte 2: Em breve"
      ]
    },
    {
      "cell_type": "markdown",
      "metadata": {
        "id": "DiCkP3XS95Of"
      },
      "source": [
        "## Instalação de dependências do Postgres\r\n",
        "\r\n",
        "Pode ser necessário apertar o botão `restart runtime` para confirmar a instalação dos arquivos binários das dependências\r\n",
        "\r\n"
      ]
    },
    {
      "cell_type": "code",
      "metadata": {
        "colab": {
          "base_uri": "https://localhost:8080/"
        },
        "id": "aR0fikOS4MzO",
        "outputId": "1e5e3001-9a7c-4578-c3d1-7064a27a4078"
      },
      "source": [
        "!pip install psycopg2 psycopg2-binary"
      ],
      "execution_count": 1,
      "outputs": [
        {
          "output_type": "stream",
          "text": [
            "Requirement already satisfied: psycopg2 in /usr/local/lib/python3.7/dist-packages (2.7.6.1)\n",
            "Collecting psycopg2-binary\n",
            "\u001b[?25l  Downloading https://files.pythonhosted.org/packages/6d/45/c519a5cfac05e14b1ccb242138915855293199840598e087b935ba1d86bc/psycopg2_binary-2.8.6-cp37-cp37m-manylinux1_x86_64.whl (3.0MB)\n",
            "\u001b[K     |████████████████████████████████| 3.0MB 5.1MB/s \n",
            "\u001b[?25hInstalling collected packages: psycopg2-binary\n",
            "Successfully installed psycopg2-binary-2.8.6\n"
          ],
          "name": "stdout"
        }
      ]
    },
    {
      "cell_type": "markdown",
      "metadata": {
        "id": "-8thvAFa-3LQ"
      },
      "source": [
        "## Classe de conexão com Postgres\r\n",
        "- O construtor já se conecta por padrão com a instância `data-warriors-postgresql` provisionada em um `Servidor Banco de Dados do Azure para PostgreSQL`"
      ]
    },
    {
      "cell_type": "code",
      "metadata": {
        "id": "6Jok2XgV4aeH"
      },
      "source": [
        "import psycopg2\r\n",
        "class Postgres():\r\n",
        "  def __init__(self,database='postgres',user='DataWarriorsAdmin@data-warriors-postgresql',password='DataWarriorsPassword!',host='data-warriors-postgresql.postgres.database.azure.com',port='5432'):\r\n",
        "    self.connection = psycopg2.connect(host=host, database=database,user=user, password=password,port=port, sslmode='require')\r\n",
        "    self.new_cursor()\r\n",
        "\r\n",
        "  def get_connection(self):\r\n",
        "    return self.connection\r\n",
        "\r\n",
        "  def new_cursor(self):\r\n",
        "    self.cursor = self.connection.cursor()\r\n",
        "    return self.cursor\r\n",
        "\r\n",
        "  def commit(self):\r\n",
        "    self.connection.commit()\r\n",
        "\r\n",
        "  def rollback(self):\r\n",
        "    self.connection.rollback()\r\n",
        "\r\n",
        "  def fetchall(self):\r\n",
        "    return self.cursor.fetchall()\r\n",
        "\r\n",
        "  def execute(self,query):\r\n",
        "    self.cursor.execute(query)\r\n",
        "    self.commit()\r\n",
        "\r\n",
        "  def search(self,query):\r\n",
        "    self.new_cursor()\r\n",
        "    self.cursor.execute(query)\r\n",
        "    self.commit()\r\n",
        "    return self.fetchall()\r\n",
        "\r\n",
        "  def insertMany(self,query,data_list):\r\n",
        "    try:\r\n",
        "      self.new_cursor()\r\n",
        "      self.cursor.executemany(query, data_list)\r\n",
        "      self.commit()    \r\n",
        "      print('Execução da transação conclída com sucesso:', query)\r\n",
        "    except Exception as error:\r\n",
        "      self.rollback()\r\n",
        "      print('Transação falhou:',error)\r\n",
        "    \r\n",
        "  def closeConnection(self):\r\n",
        "    self.connection.close()"
      ],
      "execution_count": 133,
      "outputs": []
    },
    {
      "cell_type": "markdown",
      "metadata": {
        "id": "2EiyJH6Z_Usw"
      },
      "source": [
        "## Inicia objeto de conexão com postgres\r\n",
        "\r\n"
      ]
    },
    {
      "cell_type": "code",
      "metadata": {
        "id": "AkpaF-Cg9iaw"
      },
      "source": [
        "p = Postgres()"
      ],
      "execution_count": 134,
      "outputs": []
    },
    {
      "cell_type": "markdown",
      "metadata": {
        "id": "pRA4w9ZM_eWO"
      },
      "source": [
        "## Executa uma única query de consulta"
      ]
    },
    {
      "cell_type": "code",
      "metadata": {
        "colab": {
          "base_uri": "https://localhost:8080/"
        },
        "id": "4zq6-5YK9mCH",
        "outputId": "2ce836c6-c725-4433-cd5a-e92b8ba8aaa9"
      },
      "source": [
        "p.new_cursor()\r\n",
        "p.execute('select * from newtable_1')\r\n",
        "p.fetchall()"
      ],
      "execution_count": null,
      "outputs": [
        {
          "output_type": "execute_result",
          "data": {
            "text/plain": [
              "[('Teste',), ('Teste',)]"
            ]
          },
          "metadata": {
            "tags": []
          },
          "execution_count": 82
        }
      ]
    },
    {
      "cell_type": "markdown",
      "metadata": {
        "id": "vgQ8qyrxIec6"
      },
      "source": [
        "## Executa query de insert"
      ]
    },
    {
      "cell_type": "code",
      "metadata": {
        "id": "Cu9zbdXN9ubI"
      },
      "source": [
        "teste=\"Teste\"\r\n",
        "p.new_cursor()\r\n",
        "p.execute(f\"INSERT INTO newtable_1(teste) VALUES ('{teste}')\")"
      ],
      "execution_count": null,
      "outputs": []
    },
    {
      "cell_type": "markdown",
      "metadata": {
        "id": "diWWb6LzI0rK"
      },
      "source": [
        "## Abstração para execução de query select\r\n"
      ]
    },
    {
      "cell_type": "code",
      "metadata": {
        "colab": {
          "base_uri": "https://localhost:8080/"
        },
        "id": "SDTgTYLb_8o3",
        "outputId": "1a2fe392-b359-4764-cb95-0d9bd88a6fcd"
      },
      "source": [
        "p.search('select * from newtable_1')"
      ],
      "execution_count": null,
      "outputs": [
        {
          "output_type": "execute_result",
          "data": {
            "text/plain": [
              "[('Teste',), ('Teste',)]"
            ]
          },
          "metadata": {
            "tags": []
          },
          "execution_count": 86
        }
      ]
    },
    {
      "cell_type": "markdown",
      "metadata": {
        "id": "t5JLMuXsJBbB"
      },
      "source": [
        "## Abstração para query de inserir vários elementos"
      ]
    },
    {
      "cell_type": "code",
      "metadata": {
        "id": "Akslr71GFW5w"
      },
      "source": [
        "testes = [('teste1',),('teste2',)]\r\n",
        "testes_insert_query = \"\"\"INSERT INTO newtable_1(teste) VALUES(%s)\"\"\"\r\n",
        "p.insertMany(testes_insert_query,testes)"
      ],
      "execution_count": null,
      "outputs": []
    },
    {
      "cell_type": "code",
      "metadata": {
        "colab": {
          "base_uri": "https://localhost:8080/"
        },
        "id": "bZ8nPtr7J7Zh",
        "outputId": "2bc0da9b-85b0-4c13-98d9-8f56cabacfe7"
      },
      "source": [
        "p.search('select * from newtable_1')"
      ],
      "execution_count": null,
      "outputs": [
        {
          "output_type": "execute_result",
          "data": {
            "text/plain": [
              "[('Teste',),\n",
              " ('Teste',),\n",
              " ('teste1',),\n",
              " ('teste2',),\n",
              " ('Teste',),\n",
              " ('teste1',),\n",
              " ('teste2',),\n",
              " ('Teste',),\n",
              " ('teste1',),\n",
              " ('teste2',),\n",
              " ('teste1',),\n",
              " ('teste2',)]"
            ]
          },
          "metadata": {
            "tags": []
          },
          "execution_count": 47
        }
      ]
    },
    {
      "cell_type": "markdown",
      "metadata": {
        "id": "dulKfilce_jM"
      },
      "source": [
        "## Países"
      ]
    },
    {
      "cell_type": "code",
      "metadata": {
        "id": "wpAqiwB6fN3p"
      },
      "source": [
        "import requests\r\n",
        "import pandas as pd\r\n",
        "import json"
      ],
      "execution_count": 13,
      "outputs": []
    },
    {
      "cell_type": "code",
      "metadata": {
        "id": "kmUFr05-fPvy"
      },
      "source": [
        "countries_json = requests.get('https://api.covid19api.com/countries').json()"
      ],
      "execution_count": 5,
      "outputs": []
    },
    {
      "cell_type": "code",
      "metadata": {
        "colab": {
          "base_uri": "https://localhost:8080/",
          "height": 419
        },
        "id": "N2jpI38vfi8a",
        "outputId": "8155091a-c975-4e93-c95f-8314cdfc9763"
      },
      "source": [
        "countries_df = pd.DataFrame(data=countries_json).drop_duplicates()\r\n",
        "countries_df"
      ],
      "execution_count": 7,
      "outputs": [
        {
          "output_type": "execute_result",
          "data": {
            "text/html": [
              "<div>\n",
              "<style scoped>\n",
              "    .dataframe tbody tr th:only-of-type {\n",
              "        vertical-align: middle;\n",
              "    }\n",
              "\n",
              "    .dataframe tbody tr th {\n",
              "        vertical-align: top;\n",
              "    }\n",
              "\n",
              "    .dataframe thead th {\n",
              "        text-align: right;\n",
              "    }\n",
              "</style>\n",
              "<table border=\"1\" class=\"dataframe\">\n",
              "  <thead>\n",
              "    <tr style=\"text-align: right;\">\n",
              "      <th></th>\n",
              "      <th>Country</th>\n",
              "      <th>Slug</th>\n",
              "      <th>ISO2</th>\n",
              "    </tr>\n",
              "  </thead>\n",
              "  <tbody>\n",
              "    <tr>\n",
              "      <th>0</th>\n",
              "      <td>Australia</td>\n",
              "      <td>australia</td>\n",
              "      <td>AU</td>\n",
              "    </tr>\n",
              "    <tr>\n",
              "      <th>1</th>\n",
              "      <td>Netherlands Antilles</td>\n",
              "      <td>netherlands-antilles</td>\n",
              "      <td>AN</td>\n",
              "    </tr>\n",
              "    <tr>\n",
              "      <th>2</th>\n",
              "      <td>American Samoa</td>\n",
              "      <td>american-samoa</td>\n",
              "      <td>AS</td>\n",
              "    </tr>\n",
              "    <tr>\n",
              "      <th>3</th>\n",
              "      <td>Antigua and Barbuda</td>\n",
              "      <td>antigua-and-barbuda</td>\n",
              "      <td>AG</td>\n",
              "    </tr>\n",
              "    <tr>\n",
              "      <th>4</th>\n",
              "      <td>Poland</td>\n",
              "      <td>poland</td>\n",
              "      <td>PL</td>\n",
              "    </tr>\n",
              "    <tr>\n",
              "      <th>...</th>\n",
              "      <td>...</td>\n",
              "      <td>...</td>\n",
              "      <td>...</td>\n",
              "    </tr>\n",
              "    <tr>\n",
              "      <th>243</th>\n",
              "      <td>Niger</td>\n",
              "      <td>niger</td>\n",
              "      <td>NE</td>\n",
              "    </tr>\n",
              "    <tr>\n",
              "      <th>244</th>\n",
              "      <td>Saint-Martin (French part)</td>\n",
              "      <td>saint-martin-french-part</td>\n",
              "      <td>MF</td>\n",
              "    </tr>\n",
              "    <tr>\n",
              "      <th>245</th>\n",
              "      <td>Slovakia</td>\n",
              "      <td>slovakia</td>\n",
              "      <td>SK</td>\n",
              "    </tr>\n",
              "    <tr>\n",
              "      <th>246</th>\n",
              "      <td>Montenegro</td>\n",
              "      <td>montenegro</td>\n",
              "      <td>ME</td>\n",
              "    </tr>\n",
              "    <tr>\n",
              "      <th>247</th>\n",
              "      <td>Korea (South)</td>\n",
              "      <td>korea-south</td>\n",
              "      <td>KR</td>\n",
              "    </tr>\n",
              "  </tbody>\n",
              "</table>\n",
              "<p>248 rows × 3 columns</p>\n",
              "</div>"
            ],
            "text/plain": [
              "                        Country                      Slug ISO2\n",
              "0                     Australia                 australia   AU\n",
              "1          Netherlands Antilles      netherlands-antilles   AN\n",
              "2                American Samoa            american-samoa   AS\n",
              "3           Antigua and Barbuda       antigua-and-barbuda   AG\n",
              "4                        Poland                    poland   PL\n",
              "..                          ...                       ...  ...\n",
              "243                       Niger                     niger   NE\n",
              "244  Saint-Martin (French part)  saint-martin-french-part   MF\n",
              "245                    Slovakia                  slovakia   SK\n",
              "246                  Montenegro                montenegro   ME\n",
              "247               Korea (South)               korea-south   KR\n",
              "\n",
              "[248 rows x 3 columns]"
            ]
          },
          "metadata": {
            "tags": []
          },
          "execution_count": 7
        }
      ]
    },
    {
      "cell_type": "markdown",
      "metadata": {
        "id": "ycax9IY4ghnj"
      },
      "source": [
        "### Verifica tamanho máximo para coluna Country"
      ]
    },
    {
      "cell_type": "code",
      "metadata": {
        "colab": {
          "base_uri": "https://localhost:8080/"
        },
        "id": "zEjt2qS_fkPK",
        "outputId": "17283eca-197b-434e-e590-f91fe2d27078"
      },
      "source": [
        " countries_df['Country'].apply(lambda r: len(str(r)) if r!=None else 0).max()"
      ],
      "execution_count": 8,
      "outputs": [
        {
          "output_type": "execute_result",
          "data": {
            "text/plain": [
              "44"
            ]
          },
          "metadata": {
            "tags": []
          },
          "execution_count": 8
        }
      ]
    },
    {
      "cell_type": "markdown",
      "metadata": {
        "id": "Z4_dKd_xgqlK"
      },
      "source": [
        "## Verifica tamanho máximo para coluna slug"
      ]
    },
    {
      "cell_type": "code",
      "metadata": {
        "colab": {
          "base_uri": "https://localhost:8080/"
        },
        "id": "si-14UDhgahK",
        "outputId": "adb57ef4-4841-4d75-efc1-324930f600fc"
      },
      "source": [
        " countries_df['Slug'].apply(lambda r: len(str(r)) if r!=None else 0).max()"
      ],
      "execution_count": 9,
      "outputs": [
        {
          "output_type": "execute_result",
          "data": {
            "text/plain": [
              "44"
            ]
          },
          "metadata": {
            "tags": []
          },
          "execution_count": 9
        }
      ]
    },
    {
      "cell_type": "markdown",
      "metadata": {
        "id": "xRe9g3mfipZo"
      },
      "source": [
        "### Criação da Tabela de Países / Country"
      ]
    },
    {
      "cell_type": "code",
      "metadata": {
        "id": "7yKiTd2VgpU5"
      },
      "source": [
        "create_table_country_sql = \"\"\"\r\n",
        "CREATE TABLE COUNTRY(\r\n",
        "  ISO2      VARCHAR(2)    NOT NULL,\r\n",
        "  COUNTRY   VARCHAR(44)   NOT NULL,\r\n",
        "  SLUG      VARCHAR(44)   NOT NULL,\r\n",
        "  CONSTRAINT PK_COUNTRY PRIMARY KEY (ISO2)\r\n",
        ")\r\n",
        "\"\"\"\r\n",
        "p.execute(create_table_country_sql)"
      ],
      "execution_count": null,
      "outputs": []
    },
    {
      "cell_type": "code",
      "metadata": {
        "id": "TvRtC5OWhAGW"
      },
      "source": [
        "countries_insert_many_data = list(map(lambda country: (country['ISO2'],country['Country'],country['Slug'],), countries_json))\r\n",
        "p.insertMany(\"INSERT INTO COUNTRY(ISO2,COUNTRY,SLUG) VALUES(%s,%s,%s)\",countries_insert_many_data)"
      ],
      "execution_count": null,
      "outputs": []
    },
    {
      "cell_type": "code",
      "metadata": {
        "id": "LcfUxXxgHcu_"
      },
      "source": [
        "class ParseDFToDatabase(object):\r\n",
        "  def __init__(self,df,table_name):\r\n",
        "    self.df = df\r\n",
        "    self.table_name = table_name\r\n",
        "    self.tuple_list = self.dfToTupleList()\r\n",
        "    self.columns = tuple(df.columns.to_list())\r\n",
        "    self.format_colums = str(tuple([''.join('%s') for column in self.columns])).replace(\"'\",\"\")\r\n",
        "    self.columns = str(tuple(self.columns)).replace(\"'\",\"\").upper()\r\n",
        "    self.insert_query = f'INSERT INTO {self.table_name}{self.columns} VALUES{self.format_colums}'\r\n",
        "  \r\n",
        "  def dfToTupleList(self):\r\n",
        "    df_json = json.loads(self.df.to_json(orient='records'))\r\n",
        "    return list(map(lambda row: tuple(row.values()),df_json ))\r\n",
        "\r\n",
        "  def get(self):\r\n",
        "    return self.insert_query, self.tuple_list"
      ],
      "execution_count": 34,
      "outputs": []
    },
    {
      "cell_type": "code",
      "metadata": {
        "colab": {
          "base_uri": "https://localhost:8080/"
        },
        "id": "jawtOSf0jc2S",
        "outputId": "178453e4-7ede-4587-9ca0-95ead806c95d"
      },
      "source": [
        "parsed_df = ParseDFToDatabase(countries_df, 'country')\r\n",
        "parsed_df.get()[0],parsed_df.get()[1][:5]"
      ],
      "execution_count": 130,
      "outputs": [
        {
          "output_type": "execute_result",
          "data": {
            "text/plain": [
              "('INSERT INTO country(COUNTRY, SLUG, ISO2) VALUES(%s, %s, %s)',\n",
              " [('Australia', 'australia', 'AU'),\n",
              "  ('Netherlands Antilles', 'netherlands-antilles', 'AN'),\n",
              "  ('American Samoa', 'american-samoa', 'AS'),\n",
              "  ('Antigua and Barbuda', 'antigua-and-barbuda', 'AG'),\n",
              "  ('Poland', 'poland', 'PL')])"
            ]
          },
          "metadata": {
            "tags": []
          },
          "execution_count": 130
        }
      ]
    },
    {
      "cell_type": "code",
      "metadata": {
        "colab": {
          "base_uri": "https://localhost:8080/"
        },
        "id": "XumPeUt5jffi",
        "outputId": "57525d1f-3957-4bb3-9602-ac99ee825f5c"
      },
      "source": [
        "p.insertMany(parsed_df.get()[0],parsed_df.get()[1])"
      ],
      "execution_count": 136,
      "outputs": [
        {
          "output_type": "stream",
          "text": [
            "Execução da transação conclída com sucesso: INSERT INTO country(COUNTRY, SLUG, ISO2) VALUES(%s, %s, %s)\n"
          ],
          "name": "stdout"
        }
      ]
    },
    {
      "cell_type": "code",
      "metadata": {
        "id": "VmWNlJu3sLsC"
      },
      "source": [
        ""
      ],
      "execution_count": null,
      "outputs": []
    }
  ]
}